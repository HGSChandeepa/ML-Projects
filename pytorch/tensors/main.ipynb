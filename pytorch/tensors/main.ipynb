{
 "cells": [
  {
   "cell_type": "markdown",
   "id": "e85b6585",
   "metadata": {},
   "source": [
    "# PYTORCH\n",
    "https://github.com/mrdbourke/pytorch-deep-learning"
   ]
  },
  {
   "cell_type": "code",
   "execution_count": 1,
   "id": "67b6d4e5",
   "metadata": {},
   "outputs": [
    {
     "data": {
      "text/plain": [
       "'0.23.0+cpu'"
      ]
     },
     "execution_count": 1,
     "metadata": {},
     "output_type": "execute_result"
    }
   ],
   "source": [
    "import torch\n",
    "import torchvision\n",
    "\n",
    "# version check\n",
    "torch.__version__\n",
    "torchvision.__version__"
   ]
  },
  {
   "cell_type": "code",
   "execution_count": 2,
   "id": "bb2e5365",
   "metadata": {},
   "outputs": [],
   "source": [
    "# create a tensor\n",
    "TESOR= torch.tensor([[[1, 2, 3],\n",
    "         [3, 6, 9],\n",
    "         [2, 4, 5]]])"
   ]
  },
  {
   "cell_type": "code",
   "execution_count": 3,
   "id": "169100d0",
   "metadata": {},
   "outputs": [
    {
     "data": {
      "text/plain": [
       "torch.Size([1, 3, 3])"
      ]
     },
     "execution_count": 3,
     "metadata": {},
     "output_type": "execute_result"
    }
   ],
   "source": [
    "TESOR.shape"
   ]
  },
  {
   "cell_type": "code",
   "execution_count": 4,
   "id": "bc45daf5",
   "metadata": {},
   "outputs": [
    {
     "data": {
      "text/plain": [
       "tensor([[0.1054, 0.6958, 0.6873, 0.9135, 0.8995],\n",
       "        [0.9556, 0.3831, 0.5058, 0.4904, 0.7271],\n",
       "        [0.7263, 0.8451, 0.8132, 0.9432, 0.9400]])"
      ]
     },
     "execution_count": 4,
     "metadata": {},
     "output_type": "execute_result"
    }
   ],
   "source": [
    "# create a random tensor\n",
    "random_tensor =  torch.rand(size=(3,5))\n",
    "random_tensor"
   ]
  },
  {
   "cell_type": "code",
   "execution_count": 5,
   "id": "af4e1729",
   "metadata": {},
   "outputs": [
    {
     "name": "stdout",
     "output_type": "stream",
     "text": [
      "tensor([[0., 0., 0.],\n",
      "        [0., 0., 0.]])\n",
      "tensor([[1., 1., 1.],\n",
      "        [1., 1., 1.]])\n"
     ]
    }
   ],
   "source": [
    "# creating 0 and unit tenros\n",
    "# 0 tensor\n",
    "zero_tensor = torch.zeros(size=(2,3))\n",
    "unit_tensor = torch.ones(size=(2,3))\n",
    "print(zero_tensor)\n",
    "print(unit_tensor)"
   ]
  },
  {
   "cell_type": "markdown",
   "id": "39d598c0",
   "metadata": {},
   "source": [
    "\n",
    "Creating a range and tensors like\n",
    "Sometimes you might want a range of numbers, such as 1 to 10 or 0 to 100.\n",
    "\n",
    "You can use `torch.arange(start, end, step)` to do so.\n",
    "\n",
    "- **start**: start of range (e.g. 0)\n",
    "- **end**: end of range (e.g. 10)\n",
    "- **step**: how many steps in between each value (e.g. 1)\n",
    "\n",
    "You can also create new tensors with the same shape and type as an existing tensor using functions like `torch.zeros_like()` and `torch.ones_like()`. This is useful for initializing tensors based on the shape of another tensor."
   ]
  },
  {
   "cell_type": "code",
   "execution_count": 6,
   "id": "b59966d4",
   "metadata": {},
   "outputs": [
    {
     "name": "stderr",
     "output_type": "stream",
     "text": [
      "C:\\Users\\Samin Chandeepa\\AppData\\Local\\Temp\\ipykernel_7908\\3780462036.py:1: UserWarning: torch.range is deprecated and will be removed in a future release because its behavior is inconsistent with Python's range builtin. Instead, use torch.arange, which produces values in [start, end).\n",
      "  range_tensor = torch.range(start=2 ,end=10 ,step=1)\n"
     ]
    },
    {
     "data": {
      "text/plain": [
       "torch.Size([9])"
      ]
     },
     "execution_count": 6,
     "metadata": {},
     "output_type": "execute_result"
    }
   ],
   "source": [
    "range_tensor = torch.range(start=2 ,end=10 ,step=1)\n",
    "range_tensor.shape"
   ]
  },
  {
   "cell_type": "markdown",
   "id": "74c38c4f",
   "metadata": {},
   "source": [
    "## Tensor datatypes\n",
    "\n",
    "The most common type (and generally the default) is torch.float32 or torch.float.\n"
   ]
  },
  {
   "cell_type": "code",
   "execution_count": 7,
   "id": "88793a04",
   "metadata": {},
   "outputs": [],
   "source": [
    "# https://docs.pytorch.org/docs/stable/tensors.html#data-types"
   ]
  },
  {
   "cell_type": "code",
   "execution_count": 8,
   "id": "3fef557d",
   "metadata": {},
   "outputs": [
    {
     "data": {
      "text/plain": [
       "(torch.float32, torch.Size([3]), 1, device(type='cpu'))"
      ]
     },
     "execution_count": 8,
     "metadata": {},
     "output_type": "execute_result"
    }
   ],
   "source": [
    "float_32_tensor = torch.tensor(data=[3,4,5]  ,  device= None,dtype=torch.float32,requires_grad=False)\n",
    "float_32_tensor.dtype , float_32_tensor.shape , float_32_tensor.ndim , float_32_tensor.device"
   ]
  },
  {
   "cell_type": "markdown",
   "id": "8151dea8",
   "metadata": {},
   "source": [
    "### Basic operations\n",
    "\n",
    "Let's start with a few of the fundamental operations, addition (+), subtraction (-), mutliplication (*)."
   ]
  },
  {
   "cell_type": "code",
   "execution_count": 9,
   "id": "90597bb8",
   "metadata": {},
   "outputs": [],
   "source": [
    "a =torch.tensor([1,2,3])"
   ]
  },
  {
   "cell_type": "code",
   "execution_count": 10,
   "id": "302175f5",
   "metadata": {},
   "outputs": [
    {
     "name": "stdout",
     "output_type": "stream",
     "text": [
      "torch.Size([1, 0])\n",
      "torch.Size([3])\n"
     ]
    }
   ],
   "source": [
    "# multiply\n",
    "a*3\n",
    "\n",
    "# or\n",
    "\n",
    "a.mul(4)\n",
    "x =  torch.tensor([[]])\n",
    "print(x.shape)\n",
    "torch.multiply(input=a , other=100 ,out=x)\n",
    "print(x.shape)"
   ]
  },
  {
   "cell_type": "markdown",
   "id": "690e849d",
   "metadata": {},
   "source": [
    "### \n",
    "The difference between element-wise multiplication and matrix multiplication is the addition of values.\n",
    "\n",
    "![Alt text](./images/1.png)\n",
    "\n"
   ]
  },
  {
   "cell_type": "code",
   "execution_count": 11,
   "id": "7f521bb0",
   "metadata": {},
   "outputs": [
    {
     "data": {
      "text/plain": [
       "tensor([1, 4, 9])"
      ]
     },
     "execution_count": 11,
     "metadata": {},
     "output_type": "execute_result"
    }
   ],
   "source": [
    "# Element wise\n",
    "b =torch.tensor([1,2,3])\n",
    "b*b"
   ]
  },
  {
   "cell_type": "code",
   "execution_count": 12,
   "id": "c30678d9",
   "metadata": {},
   "outputs": [
    {
     "data": {
      "text/plain": [
       "tensor(14)"
      ]
     },
     "execution_count": 12,
     "metadata": {},
     "output_type": "execute_result"
    }
   ],
   "source": [
    "# Matrix mul\n",
    "torch.matmul(b ,b) "
   ]
  },
  {
   "cell_type": "code",
   "execution_count": 13,
   "id": "26719263",
   "metadata": {},
   "outputs": [
    {
     "name": "stderr",
     "output_type": "stream",
     "text": [
      "C:\\Users\\Samin Chandeepa\\AppData\\Local\\Temp\\ipykernel_7908\\2421991759.py:1: UserWarning: torch.range is deprecated and will be removed in a future release because its behavior is inconsistent with Python's range builtin. Instead, use torch.arange, which produces values in [start, end).\n",
      "  b =  torch.range(start=1 , end=10000 , step= 30)\n"
     ]
    }
   ],
   "source": [
    "b =  torch.range(start=1 , end=10000 , step= 30)"
   ]
  },
  {
   "cell_type": "code",
   "execution_count": 14,
   "id": "a11652f9",
   "metadata": {},
   "outputs": [
    {
     "name": "stdout",
     "output_type": "stream",
     "text": [
      "CPU times: total: 0 ns\n",
      "Wall time: 7.45 ms\n"
     ]
    },
    {
     "data": {
      "text/plain": [
       "tensor(1.1131e+10)"
      ]
     },
     "execution_count": 14,
     "metadata": {},
     "output_type": "execute_result"
    }
   ],
   "source": [
    "%%time\n",
    "\n",
    "val = 0 \n",
    "for i in range(len(b)):\n",
    "    val += b[i] * b[i]\n",
    "\n",
    "\n",
    "val"
   ]
  },
  {
   "cell_type": "code",
   "execution_count": 15,
   "id": "6c1a7f8d",
   "metadata": {},
   "outputs": [
    {
     "name": "stdout",
     "output_type": "stream",
     "text": [
      "CPU times: total: 0 ns\n",
      "Wall time: 0 ns\n"
     ]
    },
    {
     "data": {
      "text/plain": [
       "tensor(1.1131e+10)"
      ]
     },
     "execution_count": 15,
     "metadata": {},
     "output_type": "execute_result"
    }
   ],
   "source": [
    "%%time\n",
    "torch.matmul(b,b)"
   ]
  },
  {
   "cell_type": "code",
   "execution_count": 16,
   "id": "568a40e0",
   "metadata": {},
   "outputs": [
    {
     "ename": "RuntimeError",
     "evalue": "mat1 and mat2 shapes cannot be multiplied (3x2 and 3x2)",
     "output_type": "error",
     "traceback": [
      "\u001b[31m---------------------------------------------------------------------------\u001b[39m",
      "\u001b[31mRuntimeError\u001b[39m                              Traceback (most recent call last)",
      "\u001b[36mCell\u001b[39m\u001b[36m \u001b[39m\u001b[32mIn[16]\u001b[39m\u001b[32m, line 10\u001b[39m\n\u001b[32m      2\u001b[39m tensor_A = torch.tensor([[\u001b[32m1\u001b[39m, \u001b[32m2\u001b[39m],\n\u001b[32m      3\u001b[39m                          [\u001b[32m3\u001b[39m, \u001b[32m4\u001b[39m],\n\u001b[32m      4\u001b[39m                          [\u001b[32m5\u001b[39m, \u001b[32m6\u001b[39m]], dtype=torch.float32)\n\u001b[32m      6\u001b[39m tensor_B = torch.tensor([[\u001b[32m7\u001b[39m, \u001b[32m10\u001b[39m],\n\u001b[32m      7\u001b[39m                          [\u001b[32m8\u001b[39m, \u001b[32m11\u001b[39m], \n\u001b[32m      8\u001b[39m                          [\u001b[32m9\u001b[39m, \u001b[32m12\u001b[39m]], dtype=torch.float32)\n\u001b[32m---> \u001b[39m\u001b[32m10\u001b[39m \u001b[43mtorch\u001b[49m\u001b[43m.\u001b[49m\u001b[43mmatmul\u001b[49m\u001b[43m(\u001b[49m\u001b[43mtensor_A\u001b[49m\u001b[43m,\u001b[49m\u001b[43m \u001b[49m\u001b[43mtensor_B\u001b[49m\u001b[43m)\u001b[49m \u001b[38;5;66;03m# (this will error)\u001b[39;00m\n",
      "\u001b[31mRuntimeError\u001b[39m: mat1 and mat2 shapes cannot be multiplied (3x2 and 3x2)"
     ]
    }
   ],
   "source": [
    "\n",
    "# Shapes need to be in the right way  \n",
    "tensor_A = torch.tensor([[1, 2],\n",
    "                         [3, 4],\n",
    "                         [5, 6]], dtype=torch.float32)\n",
    "\n",
    "tensor_B = torch.tensor([[7, 10],\n",
    "                         [8, 11], \n",
    "                         [9, 12]], dtype=torch.float32)\n",
    "\n",
    "torch.matmul(tensor_A, tensor_B) # (this will error)"
   ]
  },
  {
   "cell_type": "code",
   "execution_count": null,
   "id": "25de9e28",
   "metadata": {},
   "outputs": [
    {
     "name": "stdout",
     "output_type": "stream",
     "text": [
      "torch.Size([3, 2])\n",
      "torch.Size([2, 3])\n"
     ]
    }
   ],
   "source": [
    "print(tensor_A.shape)\n",
    "print(tensor_B.T.shape)"
   ]
  },
  {
   "cell_type": "code",
   "execution_count": null,
   "id": "bb7e9c22",
   "metadata": {},
   "outputs": [
    {
     "data": {
      "text/plain": [
       "tensor([[ 27.,  30.,  33.],\n",
       "        [ 61.,  68.,  75.],\n",
       "        [ 95., 106., 117.]])"
      ]
     },
     "execution_count": 55,
     "metadata": {},
     "output_type": "execute_result"
    }
   ],
   "source": [
    "torch.matmul(tensor_A ,  tensor_B.T)"
   ]
  },
  {
   "cell_type": "code",
   "execution_count": null,
   "id": "186d96e9",
   "metadata": {},
   "outputs": [
    {
     "name": "stdout",
     "output_type": "stream",
     "text": [
      "torch.Size([3, 2])\n",
      "torch.Size([3, 4])\n"
     ]
    }
   ],
   "source": [
    "# creating a feed fw neural network\n",
    "torch.manual_seed(22)\n",
    "\n",
    "linear = torch.nn.Linear(in_features=2 ,out_features=4)\n",
    "\n",
    "x =  tensor_A\n",
    "\n",
    "output = linear(x)\n",
    "\n",
    "print(x.shape)\n",
    "print(output.shape)"
   ]
  },
  {
   "cell_type": "code",
   "execution_count": null,
   "id": "b9046196",
   "metadata": {},
   "outputs": [
    {
     "name": "stdout",
     "output_type": "stream",
     "text": [
      "Tensor: tensor([10, 20, 30, 40, 50, 60, 70, 80, 90])\n",
      "Index where max value occurs: 8\n",
      "Index where min value occurs: 0\n"
     ]
    }
   ],
   "source": [
    "# Create a tensor\n",
    "tensor = torch.arange(10, 100, 10)\n",
    "print(f\"Tensor: {tensor}\")\n",
    "\n",
    "# Returns index of max and min values\n",
    "print(f\"Index where max value occurs: {tensor.argmax()}\")\n",
    "print(f\"Index where min value occurs: {tensor.argmin()}\")"
   ]
  },
  {
   "cell_type": "code",
   "execution_count": null,
   "id": "01399590",
   "metadata": {},
   "outputs": [
    {
     "data": {
      "text/plain": [
       "torch.int8"
      ]
     },
     "execution_count": 73,
     "metadata": {},
     "output_type": "execute_result"
    }
   ],
   "source": [
    "# change the tensor data type\n",
    "tensor_A.dtype\n",
    "\n",
    "# convert innto  int8\n",
    "tentsor_A_int = tensor_A.type(torch.int8)\n",
    "\n",
    "tentsor_A_int.dtype"
   ]
  },
  {
   "cell_type": "markdown",
   "id": "5aa400a9",
   "metadata": {},
   "source": [
    "### Reshaping, stacking, squeezing and unsqueezing tensors\n",
    "\n",
    "Often times you'll want to reshape or change the dimensions of your tensors without actually changing the values inside them.\n",
    "\n",
    "![Alt text](./images/2.png)"
   ]
  },
  {
   "cell_type": "code",
   "execution_count": null,
   "id": "55352454",
   "metadata": {},
   "outputs": [
    {
     "data": {
      "text/plain": [
       "torch.Size([6])"
      ]
     },
     "execution_count": 75,
     "metadata": {},
     "output_type": "execute_result"
    }
   ],
   "source": [
    "# create a new tensor\n",
    "\n",
    "samin = torch.arange(1 ,7)\n",
    "samin.shape"
   ]
  },
  {
   "cell_type": "code",
   "execution_count": null,
   "id": "70982993",
   "metadata": {},
   "outputs": [
    {
     "data": {
      "text/plain": [
       "torch.Size([1, 6])"
      ]
     },
     "execution_count": 80,
     "metadata": {},
     "output_type": "execute_result"
    }
   ],
   "source": [
    "# add extra dimention using >> reashape\n",
    "samin.reshape(1,6).shape\n"
   ]
  },
  {
   "cell_type": "code",
   "execution_count": null,
   "id": "d5e91819",
   "metadata": {},
   "outputs": [],
   "source": [
    "# we can view also this will just view\n",
    "\n",
    "a = samin.view(1,6)"
   ]
  },
  {
   "cell_type": "code",
   "execution_count": null,
   "id": "72ceb1ff",
   "metadata": {},
   "outputs": [
    {
     "data": {
      "text/plain": [
       "(tensor([[1, 0, 3, 4, 5, 6]]), tensor([[1, 0, 3, 4, 5, 6]]))"
      ]
     },
     "execution_count": 94,
     "metadata": {},
     "output_type": "execute_result"
    }
   ],
   "source": [
    "# # here if we change samin this will change a also\n",
    "\n",
    "# # lets set all the col (col =2) to 0 \n",
    "\n",
    "samin = samin.reshape(1, 6)\n",
    "samin[:, 1] = 0\n",
    "samin , a\n"
   ]
  },
  {
   "cell_type": "code",
   "execution_count": null,
   "id": "e0f9d72b",
   "metadata": {},
   "outputs": [
    {
     "name": "stdout",
     "output_type": "stream",
     "text": [
      "Previous tensor: tensor([[1, 0, 3, 4, 5, 6]])\n",
      "Previous shape: torch.Size([1, 6])\n",
      "\n",
      "New tensor: tensor([1, 0, 3, 4, 5, 6])\n",
      "New shape: torch.Size([6])\n"
     ]
    }
   ],
   "source": [
    "print(f\"Previous tensor: {samin}\")\n",
    "print(f\"Previous shape: {samin.shape}\")\n",
    "\n",
    "# Remove extra dimension from x_reshaped\n",
    "x_squeezed = samin.squeeze()\n",
    "print(f\"\\nNew tensor: {x_squeezed}\")\n",
    "print(f\"New shape: {x_squeezed.shape}\")"
   ]
  },
  {
   "cell_type": "markdown",
   "id": "4e9ec873",
   "metadata": {},
   "source": [
    "\n",
    "And to do the reverse of torch.squeeze() you can use torch.unsqueeze() to add a dimension value of 1 at a specific index."
   ]
  },
  {
   "cell_type": "code",
   "execution_count": null,
   "id": "cf68703b",
   "metadata": {},
   "outputs": [
    {
     "name": "stdout",
     "output_type": "stream",
     "text": [
      "Previous tensor: tensor([1, 0, 3, 4, 5, 6])\n",
      "Previous shape: torch.Size([6])\n",
      "\n",
      "New tensor: tensor([[1, 0, 3, 4, 5, 6]])\n",
      "New shape: torch.Size([1, 6])\n"
     ]
    }
   ],
   "source": [
    "print(f\"Previous tensor: {x_squeezed}\")\n",
    "print(f\"Previous shape: {x_squeezed.shape}\")\n",
    "\n",
    "## Add an extra dimension with unsqueeze\n",
    "x_unsqueezed = x_squeezed.unsqueeze(dim=0)\n",
    "print(f\"\\nNew tensor: {x_unsqueezed}\")\n",
    "print(f\"New shape: {x_unsqueezed.shape}\")"
   ]
  },
  {
   "cell_type": "markdown",
   "id": "b5993126",
   "metadata": {},
   "source": [
    "\n",
    "You can also rearrange the order of axes values with torch.permute(input, dims), where the input gets turned into a view with new dims."
   ]
  },
  {
   "cell_type": "code",
   "execution_count": null,
   "id": "63b8a44b",
   "metadata": {},
   "outputs": [
    {
     "name": "stdout",
     "output_type": "stream",
     "text": [
      "Previous shape: torch.Size([224, 224, 3])\n",
      "New shape: torch.Size([3, 224, 224])\n"
     ]
    }
   ],
   "source": [
    "# Create tensor with specific shape\n",
    "x_original = torch.rand(size=(224, 224, 3))\n",
    "\n",
    "# Permute the original tensor to rearrange the axis order\n",
    "x_permuted = x_original.permute(2, 0, 1) # shifts axis 0->1, 1->2, 2->0\n",
    "\n",
    "print(f\"Previous shape: {x_original.shape}\")\n",
    "print(f\"New shape: {x_permuted.shape}\")"
   ]
  },
  {
   "cell_type": "markdown",
   "id": "a6ba1720",
   "metadata": {},
   "source": [
    "### Indexing (selecting data from tensors)\n",
    "\n",
    "Sometimes you'll want to select specific data from tensors (for example, only the first column or second row)."
   ]
  },
  {
   "cell_type": "code",
   "execution_count": null,
   "id": "42a9e927",
   "metadata": {},
   "outputs": [
    {
     "data": {
      "text/plain": [
       "(tensor([[[1, 2, 3],\n",
       "          [4, 5, 6],\n",
       "          [7, 8, 9]]]),\n",
       " torch.Size([1, 3, 3]))"
      ]
     },
     "execution_count": 99,
     "metadata": {},
     "output_type": "execute_result"
    }
   ],
   "source": [
    "x = torch.arange(1, 10).reshape(1, 3, 3)\n",
    "x, x.shape"
   ]
  },
  {
   "cell_type": "code",
   "execution_count": null,
   "id": "cdc2d31c",
   "metadata": {},
   "outputs": [
    {
     "name": "stdout",
     "output_type": "stream",
     "text": [
      "First square bracket:\n",
      "tensor([[1, 2, 3],\n",
      "        [4, 5, 6],\n",
      "        [7, 8, 9]])\n",
      "Second square bracket: tensor([1, 2, 3])\n",
      "Third square bracket: 1\n"
     ]
    }
   ],
   "source": [
    "# Let's index bracket by bracket\n",
    "print(f\"First square bracket:\\n{x[0]}\") \n",
    "print(f\"Second square bracket: {x[0][0]}\") \n",
    "print(f\"Third square bracket: {x[0][0][0]}\")"
   ]
  },
  {
   "cell_type": "code",
   "execution_count": null,
   "id": "955730c9",
   "metadata": {},
   "outputs": [
    {
     "data": {
      "text/plain": [
       "tensor([[1, 2, 3]])"
      ]
     },
     "execution_count": 101,
     "metadata": {},
     "output_type": "execute_result"
    }
   ],
   "source": [
    "# Get all values of 0th dimension and the 0 index of 1st dimension\n",
    "x[:, 0]"
   ]
  },
  {
   "cell_type": "code",
   "execution_count": null,
   "id": "89d1779a",
   "metadata": {},
   "outputs": [
    {
     "data": {
      "text/plain": [
       "tensor([[2, 5, 8]])"
      ]
     },
     "execution_count": 102,
     "metadata": {},
     "output_type": "execute_result"
    }
   ],
   "source": [
    "# Get all values of 0th & 1st dimensions but only index 1 of 2nd dimension\n",
    "x[:, :, 1]"
   ]
  },
  {
   "cell_type": "markdown",
   "id": "211806d2",
   "metadata": {},
   "source": [
    "\n",
    "### PyTorch tensors & NumPy\n",
    "\n",
    "Since NumPy is a popular Python numerical computing library, PyTorch has functionality to interact with it nicely."
   ]
  },
  {
   "cell_type": "code",
   "execution_count": null,
   "id": "0a70c0df",
   "metadata": {},
   "outputs": [
    {
     "data": {
      "text/plain": [
       "(array([1., 2., 3., 4., 5., 6., 7.]),\n",
       " tensor([1., 2., 3., 4., 5., 6., 7.], dtype=torch.float64))"
      ]
     },
     "execution_count": 103,
     "metadata": {},
     "output_type": "execute_result"
    }
   ],
   "source": [
    "# NumPy array to tensor\n",
    "import torch\n",
    "import numpy as np\n",
    "array = np.arange(1.0, 8.0)\n",
    "tensor = torch.from_numpy(array)\n",
    "array, tensor"
   ]
  },
  {
   "cell_type": "code",
   "execution_count": null,
   "id": "df67b8e5",
   "metadata": {},
   "outputs": [
    {
     "data": {
      "text/plain": [
       "(tensor([1., 1., 1., 1., 1., 1., 1.]),\n",
       " array([1., 1., 1., 1., 1., 1., 1.], dtype=float32))"
      ]
     },
     "execution_count": 104,
     "metadata": {},
     "output_type": "execute_result"
    }
   ],
   "source": [
    "# Tensor to NumPy array\n",
    "tensor = torch.ones(7) # create a tensor of ones with dtype=float32\n",
    "numpy_tensor = tensor.numpy() # will be dtype=float32 unless changed\n",
    "tensor, numpy_tensor"
   ]
  },
  {
   "cell_type": "code",
   "execution_count": null,
   "id": "f9e47640",
   "metadata": {},
   "outputs": [
    {
     "name": "stdout",
     "output_type": "stream",
     "text": [
      "Tensor A:\n",
      "tensor([[0.8943, 0.2193, 0.8602, 0.9893],\n",
      "        [0.5373, 0.3472, 0.3103, 0.0957],\n",
      "        [0.0393, 0.8610, 0.5790, 0.1874]])\n",
      "\n",
      "Tensor B:\n",
      "tensor([[0.3425, 0.3677, 0.1489, 0.5900],\n",
      "        [0.3737, 0.8146, 0.6690, 0.2247],\n",
      "        [0.9433, 0.2393, 0.1693, 0.7071]])\n",
      "\n",
      "Does Tensor A equal Tensor B? (anywhere)\n"
     ]
    },
    {
     "data": {
      "text/plain": [
       "tensor([[False, False, False, False],\n",
       "        [False, False, False, False],\n",
       "        [False, False, False, False]])"
      ]
     },
     "execution_count": 112,
     "metadata": {},
     "output_type": "execute_result"
    }
   ],
   "source": [
    "import torch\n",
    "\n",
    "# Create two random tensors\n",
    "random_tensor_A = torch.rand(3, 4)\n",
    "random_tensor_B = torch.rand(3, 4)\n",
    "\n",
    "print(f\"Tensor A:\\n{random_tensor_A}\\n\")\n",
    "print(f\"Tensor B:\\n{random_tensor_B}\\n\")\n",
    "print(f\"Does Tensor A equal Tensor B? (anywhere)\")\n",
    "random_tensor_A == random_tensor_B"
   ]
  },
  {
   "cell_type": "markdown",
   "id": "d725b64d",
   "metadata": {},
   "source": [
    "Just as you might've expected, the tensors come out with different values.\n",
    "\n",
    "But what if you wanted to create two random tensors with the same values.\n",
    "\n",
    "As in, the tensors would still contain random values but they would be of the same flavour.\n",
    "\n",
    "That's where torch.manual_seed(seed) comes in, where seed is an integer (like 42 but it could be anything) that flavours the randomness."
   ]
  },
  {
   "cell_type": "code",
   "execution_count": null,
   "id": "2fd0b947",
   "metadata": {},
   "outputs": [
    {
     "name": "stdout",
     "output_type": "stream",
     "text": [
      "Tensor C:\n",
      "tensor([[0.9775, 0.1055, 0.6294, 0.0536],\n",
      "        [0.9167, 0.7129, 0.5922, 0.5827],\n",
      "        [0.4236, 0.9050, 0.7612, 0.8220]])\n",
      "\n",
      "Tensor D:\n",
      "tensor([[0.9775, 0.1055, 0.6294, 0.0536],\n",
      "        [0.9167, 0.7129, 0.5922, 0.5827],\n",
      "        [0.4236, 0.9050, 0.7612, 0.8220]])\n",
      "\n",
      "Does Tensor C equal Tensor D? (anywhere)\n"
     ]
    },
    {
     "data": {
      "text/plain": [
       "tensor([[True, True, True, True],\n",
       "        [True, True, True, True],\n",
       "        [True, True, True, True]])"
      ]
     },
     "execution_count": 121,
     "metadata": {},
     "output_type": "execute_result"
    }
   ],
   "source": [
    "import torch\n",
    "import random\n",
    "\n",
    "# # Set the random seed\n",
    "RANDOM_SEED=433333 # try changing this to different values and see what happens to the numbers below\n",
    "torch.manual_seed(seed=RANDOM_SEED) \n",
    "random_tensor_C = torch.rand(3, 4)\n",
    "\n",
    "# Have to reset the seed every time a new rand() is called \n",
    "# Without this, tensor_D would be different to tensor_C \n",
    "torch.random.manual_seed(seed=RANDOM_SEED) # try commenting this line out and seeing what happens\n",
    "random_tensor_D = torch.rand(3, 4)\n",
    "\n",
    "print(f\"Tensor C:\\n{random_tensor_C}\\n\")\n",
    "print(f\"Tensor D:\\n{random_tensor_D}\\n\")\n",
    "print(f\"Does Tensor C equal Tensor D? (anywhere)\")\n",
    "random_tensor_C == random_tensor_D"
   ]
  },
  {
   "cell_type": "markdown",
   "id": "8e55b38d",
   "metadata": {},
   "source": [
    "### Putting tensors (and models) on the GPU\n",
    "\n",
    "You can put tensors (and models, we'll see this later) on a specific device by calling to(device) on them. Where device is the target device you'd like the tensor (or model) to go to."
   ]
  },
  {
   "cell_type": "code",
   "execution_count": null,
   "id": "452a5382",
   "metadata": {},
   "outputs": [],
   "source": [
    "if torch.cuda.is_available():\n",
    "    device = \"cuda\" # Use NVIDIA GPU (if available)\n",
    "elif torch.backends.mps.is_available():\n",
    "    device = \"mps\" # Use Apple Silicon GPU (if available)\n",
    "else:\n",
    "    device = \"cpu\" # Default to CPU if no GPU is available"
   ]
  },
  {
   "cell_type": "code",
   "execution_count": null,
   "id": "19d3e044",
   "metadata": {},
   "outputs": [
    {
     "name": "stdout",
     "output_type": "stream",
     "text": [
      "tensor([1, 2, 3]) cpu\n"
     ]
    },
    {
     "data": {
      "text/plain": [
       "tensor([1, 2, 3])"
      ]
     },
     "execution_count": 124,
     "metadata": {},
     "output_type": "execute_result"
    }
   ],
   "source": [
    "# Create tensor (default on CPU)\n",
    "tensor = torch.tensor([1, 2, 3])\n",
    "\n",
    "# Tensor not on GPU\n",
    "print(tensor, tensor.device)\n",
    "\n",
    "# Move tensor to GPU (if available)\n",
    "tensor_on_gpu = tensor.to(device)\n",
    "tensor_on_gpu"
   ]
  },
  {
   "cell_type": "markdown",
   "id": "ea929de5",
   "metadata": {},
   "source": [
    "Instead, to get a tensor back to CPU and usable with NumPy we can use Tensor.cpu().\n",
    "\n",
    "This copies the tensor to CPU memory so it's usable with CPUs."
   ]
  },
  {
   "cell_type": "code",
   "execution_count": null,
   "id": "e3937eaa",
   "metadata": {},
   "outputs": [
    {
     "data": {
      "text/plain": [
       "array([1, 2, 3])"
      ]
     },
     "execution_count": 125,
     "metadata": {},
     "output_type": "execute_result"
    }
   ],
   "source": [
    "# Instead, copy the tensor back to cpu\n",
    "tensor_back_on_cpu = tensor_on_gpu.cpu().numpy()\n",
    "tensor_back_on_cpu"
   ]
  },
  {
   "cell_type": "code",
   "execution_count": null,
   "id": "78ce8376",
   "metadata": {},
   "outputs": [],
   "source": []
  }
 ],
 "metadata": {
  "kernelspec": {
   "display_name": ".venv",
   "language": "python",
   "name": "python3"
  },
  "language_info": {
   "codemirror_mode": {
    "name": "ipython",
    "version": 3
   },
   "file_extension": ".py",
   "mimetype": "text/x-python",
   "name": "python",
   "nbconvert_exporter": "python",
   "pygments_lexer": "ipython3",
   "version": "3.12.10"
  }
 },
 "nbformat": 4,
 "nbformat_minor": 5
}
