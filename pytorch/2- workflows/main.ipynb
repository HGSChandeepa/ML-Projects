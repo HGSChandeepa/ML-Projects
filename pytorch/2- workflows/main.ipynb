{
 "cells": [
  {
   "cell_type": "code",
   "execution_count": 1,
   "id": "ee32adbb",
   "metadata": {},
   "outputs": [],
   "source": [
    "import torch\n",
    "from torch import nn\n",
    "import matplotlib.pyplot as plt"
   ]
  },
  {
   "cell_type": "code",
   "execution_count": 2,
   "id": "af3fa7aa",
   "metadata": {},
   "outputs": [
    {
     "data": {
      "text/plain": [
       "'2.8.0+cpu'"
      ]
     },
     "execution_count": 2,
     "metadata": {},
     "output_type": "execute_result"
    }
   ],
   "source": [
    "torch.__version__"
   ]
  },
  {
   "cell_type": "markdown",
   "id": "e3fe2641",
   "metadata": {},
   "source": [
    "### 1. Data (preparing and loading)\n",
    "I want to stress that \"data\" in machine learning can be almost anything you can imagine. A table of numbers (like a big Excel spreadsheet), images of any kind, videos (YouTube has lots of data!), audio files like songs or podcasts, protein structures, text and more."
   ]
  },
  {
   "cell_type": "code",
   "execution_count": 3,
   "id": "a6c38b55",
   "metadata": {},
   "outputs": [
    {
     "name": "stdout",
     "output_type": "stream",
     "text": [
      "torch.Size([50])\n"
     ]
    },
    {
     "data": {
      "text/plain": [
       "(tensor([0.0000, 0.0200, 0.0400, 0.0600, 0.0800, 0.1000, 0.1200, 0.1400, 0.1600,\n",
       "         0.1800]),\n",
       " tensor([0.3000, 0.3140, 0.3280, 0.3420, 0.3560, 0.3700, 0.3840, 0.3980, 0.4120,\n",
       "         0.4260]))"
      ]
     },
     "execution_count": 3,
     "metadata": {},
     "output_type": "execute_result"
    }
   ],
   "source": [
    "# create a samlpe dataset\n",
    "weight = 0.7\n",
    "bais = 0.3\n",
    "\n",
    "X = torch.arange(start=0 , end=1 , step=0.02)\n",
    "y = weight * X + bais \n",
    "\n",
    "# see X and y\n",
    "print(X.shape)\n",
    "# get the first 10 elements\n",
    "X[ : 10] , y[:10]"
   ]
  },
  {
   "cell_type": "markdown",
   "id": "e30e6de1",
   "metadata": {},
   "source": [
    "Now we're going to move towards building a model that can learn the relationship between X (features) and y (labels)."
   ]
  },
  {
   "cell_type": "markdown",
   "id": "d56fc851",
   "metadata": {},
   "source": [
    "### Split data into training and test sets"
   ]
  },
  {
   "cell_type": "code",
   "execution_count": 4,
   "id": "f4280dd8",
   "metadata": {},
   "outputs": [
    {
     "data": {
      "text/plain": [
       "(40, 40, 10, 10)"
      ]
     },
     "execution_count": 4,
     "metadata": {},
     "output_type": "execute_result"
    }
   ],
   "source": [
    "splitter = int(len(X)*0.8) \n",
    "\n",
    "# spliting data 80 -> train and 20 -> test\n",
    "X_train , y_train = X[:splitter] , y[:splitter]\n",
    "X_test , y_test = X[splitter : ] , y[splitter :]\n",
    "\n",
    "len(X_train), len(y_train), len(X_test), len(y_test)\n"
   ]
  },
  {
   "cell_type": "code",
   "execution_count": 5,
   "id": "38fdbcbb",
   "metadata": {},
   "outputs": [],
   "source": [
    "def plot_predictions(train_data=X_train, \n",
    "                     train_labels=y_train, \n",
    "                     test_data=X_test, \n",
    "                     test_labels=y_test, \n",
    "                     predictions=None):\n",
    "  \"\"\"\n",
    "  Plots training data, test data and compares predictions.\n",
    "  \"\"\"\n",
    "  plt.figure(figsize=(10, 7))\n",
    "\n",
    "  # Plot training data in blue\n",
    "  plt.scatter(train_data, train_labels, c=\"b\", s=4, label=\"Training data\")\n",
    "  \n",
    "  # Plot test data in green\n",
    "  plt.scatter(test_data, test_labels, c=\"g\", s=4, label=\"Testing data\")\n",
    "\n",
    "  if predictions is not None:\n",
    "    # Plot the predictions in red (predictions were made on the test data)\n",
    "    plt.scatter(test_data, predictions, c=\"r\", s=4, label=\"Predictions\")\n",
    "\n",
    "  # Show the legend\n",
    "  plt.legend(prop={\"size\": 14});"
   ]
  },
  {
   "cell_type": "code",
   "execution_count": 6,
   "id": "11102e0a",
   "metadata": {},
   "outputs": [
    {
     "data": {
      "image/png": "[encoded data removed]",
      "text/plain": [
       "<Figure size 1000x700 with 1 Axes>"
      ]
     },
     "metadata": {},
     "output_type": "display_data"
    }
   ],
   "source": [
    "plot_predictions()"
   ]
  },
  {
   "cell_type": "markdown",
   "id": "524959d0",
   "metadata": {},
   "source": [
    "### Creating a neural network - Linear Regression model "
   ]
  },
  {
   "cell_type": "code",
   "execution_count": 7,
   "id": "72aa3dcb",
   "metadata": {},
   "outputs": [],
   "source": [
    "import torch\n",
    "import torch.nn as nn\n",
    "\n",
    "class LinearRegressionModel(nn.Module):\n",
    "    def __init__(self, *args, **kwargs):\n",
    "        super().__init__(*args, **kwargs)\n",
    "\n",
    "        # Starting with random initial weights (slope 'm')\n",
    "        self.weights = nn.Parameter(\n",
    "            torch.randn(1, dtype=torch.float),  # tensor with shape (1,)\n",
    "            requires_grad=True\n",
    "        )\n",
    "\n",
    "        # Starting with random initial bias (intercept 'c')\n",
    "        self.bias = nn.Parameter(\n",
    "            torch.randn(1, dtype=torch.float),  # tensor with shape (1,)\n",
    "            requires_grad=True\n",
    "        )\n",
    "\n",
    "    # Forward pass: y = m*x + c\n",
    "    def forward(self, x: torch.Tensor):\n",
    "        return self.weights * x + self.bias\n"
   ]
  },
  {
   "cell_type": "markdown",
   "id": "c843c3ad",
   "metadata": {},
   "source": [
    "![Alt text](./images/1.png)"
   ]
  },
  {
   "cell_type": "markdown",
   "id": "033931ce",
   "metadata": {},
   "source": [
    "![Alt text](./images/2.png)"
   ]
  },
  {
   "cell_type": "markdown",
   "id": "8d3006b3",
   "metadata": {},
   "source": [
    "\n",
    "Checking the contents of a PyTorch model"
   ]
  },
  {
   "cell_type": "code",
   "execution_count": 8,
   "id": "e414a5fe",
   "metadata": {},
   "outputs": [
    {
     "data": {
      "text/plain": [
       "[Parameter containing:\n",
       " tensor([0.3367], requires_grad=True),\n",
       " Parameter containing:\n",
       " tensor([0.1288], requires_grad=True)]"
      ]
     },
     "execution_count": 8,
     "metadata": {},
     "output_type": "execute_result"
    }
   ],
   "source": [
    "# Set manual seed since nn.Parameter are randomly initialized\n",
    "torch.manual_seed(42)\n",
    "\n",
    "# Create an instance of the model (this is a subclass of nn.Module that contains nn.Parameter(s))\n",
    "model_0 = LinearRegressionModel()\n",
    "\n",
    "# Check the nn.Parameter(s) within the nn.Module subclass we created\n",
    "list(model_0.parameters())"
   ]
  },
  {
   "cell_type": "code",
   "execution_count": 9,
   "id": "7747d0f5",
   "metadata": {},
   "outputs": [
    {
     "data": {
      "text/plain": [
       "OrderedDict([('weights', tensor([0.3367])), ('bias', tensor([0.1288]))])"
      ]
     },
     "execution_count": 9,
     "metadata": {},
     "output_type": "execute_result"
    }
   ],
   "source": [
    "model_0.state_dict()"
   ]
  },
  {
   "cell_type": "markdown",
   "id": "d9d207b8",
   "metadata": {},
   "source": [
    "torch.inference_mode() turns off a bunch of things (like gradient tracking, which is necessary for training but not for inference) to make forward-passes (data going through the forward() method) faster.\n",
    "\n",
    "- Note: In older PyTorch code, you may also see torch.no_grad() being used for inference. While torch.inference_mode() and torch.no_grad() do similar things, torch.inference_mode() is newer, potentially faster and preferred. See this Tweet from PyTorch for more."
   ]
  },
  {
   "cell_type": "code",
   "execution_count": 10,
   "id": "e2cc0231",
   "metadata": {},
   "outputs": [
    {
     "name": "stdout",
     "output_type": "stream",
     "text": [
      "tensor([0.3982, 0.4049, 0.4116, 0.4184, 0.4251, 0.4318, 0.4386, 0.4453, 0.4520,\n",
      "        0.4588])\n"
     ]
    }
   ],
   "source": [
    "# Make predictions with model\n",
    "with torch.inference_mode(): \n",
    "    y_preds = model_0(X_test)\n",
    "    print(y_preds)"
   ]
  },
  {
   "cell_type": "code",
   "execution_count": 11,
   "id": "58933529",
   "metadata": {},
   "outputs": [
    {
     "data": {
      "image/png": "[encoded data removed]",
      "text/plain": [
       "<Figure size 1000x700 with 1 Axes>"
      ]
     },
     "metadata": {},
     "output_type": "display_data"
    }
   ],
   "source": [
    "plot_predictions(predictions=y_preds)"
   ]
  },
  {
   "cell_type": "code",
   "execution_count": 12,
   "id": "4274399f",
   "metadata": {},
   "outputs": [
    {
     "data": {
      "text/plain": [
       "tensor([0.4618, 0.4691, 0.4764, 0.4836, 0.4909, 0.4982, 0.5054, 0.5127, 0.5200,\n",
       "        0.5272])"
      ]
     },
     "execution_count": 12,
     "metadata": {},
     "output_type": "execute_result"
    }
   ],
   "source": [
    "y_test - y_preds"
   ]
  },
  {
   "cell_type": "markdown",
   "id": "f4b0c391",
   "metadata": {},
   "source": [
    "This makes sense though, when you remember our model is just using random parameter values to make predictions.\n",
    "\n",
    "It hasn't even looked at the blue dots to try to predict the green dots."
   ]
  },
  {
   "cell_type": "markdown",
   "id": "4931c49a",
   "metadata": {},
   "source": [
    "### Train the model"
   ]
  },
  {
   "cell_type": "markdown",
   "id": "6bfd4c2f",
   "metadata": {},
   "source": [
    "\n",
    "Creating a loss function and optimizer in PyTorch\n",
    "For our model to update its parameters on its own, we'll need to add a few more things to our recipe.\n",
    "\n",
    "And that's a loss function as well as an optimizer.\n",
    "\n",
    "![image.png](./images/3.png)\n",
    "\n"
   ]
  },
  {
   "cell_type": "markdown",
   "id": "d52cbd17",
   "metadata": {},
   "source": [
    "### Creating loss functions and optimizers"
   ]
  },
  {
   "cell_type": "code",
   "execution_count": 15,
   "id": "3d940fb6",
   "metadata": {},
   "outputs": [],
   "source": [
    "# loss function -> mean absolute error (MAE)\n",
    "loss_fn = nn.L1Loss()\n",
    "optimizer = torch.optim.SGD( params= model_0.parameters() # parameters of target model to optimize\n",
    "                             , lr= 0.001  #  learning rate (how much the optimizer should change parameters at each step, higher=more (less stable), lower=less (might take a long time))\n",
    "                            )"
   ]
  },
  {
   "cell_type": "markdown",
   "id": "7d33d758",
   "metadata": {},
   "source": [
    "### PyTorch training loop\n",
    "\n",
    "![image.png](./images/4.png)\n",
    "![image.png](./images/5.png)\n",
    "\n"
   ]
  },
  {
   "cell_type": "code",
   "execution_count": 17,
   "id": "4a1871fc",
   "metadata": {},
   "outputs": [
    {
     "name": "stdout",
     "output_type": "stream",
     "text": [
      "Epoch: 0 | MAE Train Loss: 0.19767141342163086 | MAE Test Loss: 0.35847947001457214 \n",
      "Epoch: 10 | MAE Train Loss: 0.18615040183067322 | MAE Test Loss: 0.34500852227211 \n",
      "Epoch: 20 | MAE Train Loss: 0.17462942004203796 | MAE Test Loss: 0.33153754472732544 \n",
      "Epoch: 30 | MAE Train Loss: 0.16310855746269226 | MAE Test Loss: 0.3180667459964752 \n",
      "Epoch: 40 | MAE Train Loss: 0.15158770978450775 | MAE Test Loss: 0.304595947265625 \n",
      "Epoch: 50 | MAE Train Loss: 0.14006686210632324 | MAE Test Loss: 0.2911251187324524 \n",
      "Epoch: 60 | MAE Train Loss: 0.12854602932929993 | MAE Test Loss: 0.2776543200016022 \n",
      "Epoch: 70 | MAE Train Loss: 0.11702518165111542 | MAE Test Loss: 0.26418352127075195 \n",
      "Epoch: 80 | MAE Train Loss: 0.10654274374246597 | MAE Test Loss: 0.251315176486969 \n",
      "Epoch: 90 | MAE Train Loss: 0.09747617691755295 | MAE Test Loss: 0.2392154484987259 \n",
      "Epoch: 100 | MAE Train Loss: 0.08973254263401031 | MAE Test Loss: 0.22795839607715607 \n",
      "Epoch: 110 | MAE Train Loss: 0.08306284993886948 | MAE Test Loss: 0.21740305423736572 \n",
      "Epoch: 120 | MAE Train Loss: 0.07729282230138779 | MAE Test Loss: 0.20750825107097626 \n",
      "Epoch: 130 | MAE Train Loss: 0.07242877781391144 | MAE Test Loss: 0.19840054214000702 \n",
      "Epoch: 140 | MAE Train Loss: 0.06828799843788147 | MAE Test Loss: 0.18992407619953156 \n",
      "Epoch: 150 | MAE Train Loss: 0.06476505100727081 | MAE Test Loss: 0.18208928406238556 \n",
      "Epoch: 160 | MAE Train Loss: 0.06174134090542793 | MAE Test Loss: 0.17478716373443604 \n",
      "Epoch: 170 | MAE Train Loss: 0.05915876477956772 | MAE Test Loss: 0.16802480816841125 \n",
      "Epoch: 180 | MAE Train Loss: 0.0569603331387043 | MAE Test Loss: 0.161748006939888 \n",
      "Epoch: 190 | MAE Train Loss: 0.05514555424451828 | MAE Test Loss: 0.15608695149421692 \n",
      "Epoch: 200 | MAE Train Loss: 0.05357731133699417 | MAE Test Loss: 0.15086300671100616 \n",
      "Epoch: 210 | MAE Train Loss: 0.05218071490526199 | MAE Test Loss: 0.14595307409763336 \n",
      "Epoch: 220 | MAE Train Loss: 0.05105169489979744 | MAE Test Loss: 0.1415499746799469 \n",
      "Epoch: 230 | MAE Train Loss: 0.050030313432216644 | MAE Test Loss: 0.1374681293964386 \n",
      "Epoch: 240 | MAE Train Loss: 0.049160152673721313 | MAE Test Loss: 0.13370750844478607 \n",
      "Epoch: 250 | MAE Train Loss: 0.04836020991206169 | MAE Test Loss: 0.13020753860473633 \n",
      "Epoch: 260 | MAE Train Loss: 0.04769856110215187 | MAE Test Loss: 0.12709848582744598 \n",
      "Epoch: 270 | MAE Train Loss: 0.04703690856695175 | MAE Test Loss: 0.12398938834667206 \n",
      "Epoch: 280 | MAE Train Loss: 0.04650093987584114 | MAE Test Loss: 0.12147434055805206 \n",
      "Epoch: 290 | MAE Train Loss: 0.045996345579624176 | MAE Test Loss: 0.11902527511119843 \n",
      "Epoch: 300 | MAE Train Loss: 0.04549176245927811 | MAE Test Loss: 0.11657620966434479 \n",
      "Epoch: 310 | MAE Train Loss: 0.045014552772045135 | MAE Test Loss: 0.11432783305644989 \n",
      "Epoch: 320 | MAE Train Loss: 0.04461454600095749 | MAE Test Loss: 0.11254779994487762 \n",
      "Epoch: 330 | MAE Train Loss: 0.04421453922986984 | MAE Test Loss: 0.11076776683330536 \n",
      "Epoch: 340 | MAE Train Loss: 0.043814532458782196 | MAE Test Loss: 0.1089877337217331 \n",
      "Epoch: 350 | MAE Train Loss: 0.04341452196240425 | MAE Test Loss: 0.10720770061016083 \n",
      "Epoch: 360 | MAE Train Loss: 0.043014515191316605 | MAE Test Loss: 0.10542766749858856 \n",
      "Epoch: 370 | MAE Train Loss: 0.04265119880437851 | MAE Test Loss: 0.10419009625911713 \n",
      "Epoch: 380 | MAE Train Loss: 0.04230218380689621 | MAE Test Loss: 0.1030881255865097 \n",
      "Epoch: 390 | MAE Train Loss: 0.04195316880941391 | MAE Test Loss: 0.10198615491390228 \n",
      "Epoch: 400 | MAE Train Loss: 0.04160415381193161 | MAE Test Loss: 0.10088418424129486 \n",
      "Epoch: 410 | MAE Train Loss: 0.04125513881444931 | MAE Test Loss: 0.09978221356868744 \n",
      "Epoch: 420 | MAE Train Loss: 0.04090612381696701 | MAE Test Loss: 0.09868024289608002 \n",
      "Epoch: 430 | MAE Train Loss: 0.04055710881948471 | MAE Test Loss: 0.0975782722234726 \n",
      "Epoch: 440 | MAE Train Loss: 0.04020809382200241 | MAE Test Loss: 0.09647630155086517 \n",
      "Epoch: 450 | MAE Train Loss: 0.03985908254981041 | MAE Test Loss: 0.09537436813116074 \n",
      "Epoch: 460 | MAE Train Loss: 0.03951007127761841 | MAE Test Loss: 0.09427239745855331 \n",
      "Epoch: 470 | MAE Train Loss: 0.03916105255484581 | MAE Test Loss: 0.09317042678594589 \n",
      "Epoch: 480 | MAE Train Loss: 0.03881204128265381 | MAE Test Loss: 0.09206845611333847 \n",
      "Epoch: 490 | MAE Train Loss: 0.03846302255988121 | MAE Test Loss: 0.09096648544073105 \n",
      "Epoch: 500 | MAE Train Loss: 0.03811401128768921 | MAE Test Loss: 0.08986451476812363 \n",
      "Epoch: 510 | MAE Train Loss: 0.03776499256491661 | MAE Test Loss: 0.0887625440955162 \n",
      "Epoch: 520 | MAE Train Loss: 0.03741598129272461 | MAE Test Loss: 0.08766057342290878 \n",
      "Epoch: 530 | MAE Train Loss: 0.037067197263240814 | MAE Test Loss: 0.08662726730108261 \n",
      "Epoch: 540 | MAE Train Loss: 0.03672432154417038 | MAE Test Loss: 0.08579986542463303 \n",
      "Epoch: 550 | MAE Train Loss: 0.03638043254613876 | MAE Test Loss: 0.08497253060340881 \n",
      "Epoch: 560 | MAE Train Loss: 0.036036938428878784 | MAE Test Loss: 0.08421380817890167 \n",
      "Epoch: 570 | MAE Train Loss: 0.035693906247615814 | MAE Test Loss: 0.08338643610477448 \n",
      "Epoch: 580 | MAE Train Loss: 0.035350002348423004 | MAE Test Loss: 0.08255907148122787 \n",
      "Epoch: 590 | MAE Train Loss: 0.035006679594516754 | MAE Test Loss: 0.08180035650730133 \n",
      "Epoch: 600 | MAE Train Loss: 0.03466346859931946 | MAE Test Loss: 0.08097299933433533 \n",
      "Epoch: 610 | MAE Train Loss: 0.03431956097483635 | MAE Test Loss: 0.08014564216136932 \n",
      "Epoch: 620 | MAE Train Loss: 0.03397642448544502 | MAE Test Loss: 0.07938691228628159 \n",
      "Epoch: 630 | MAE Train Loss: 0.0336330309510231 | MAE Test Loss: 0.07855955511331558 \n",
      "Epoch: 640 | MAE Train Loss: 0.03328912332653999 | MAE Test Loss: 0.07773219794034958 \n",
      "Epoch: 650 | MAE Train Loss: 0.032946161925792694 | MAE Test Loss: 0.07697348296642303 \n",
      "Epoch: 660 | MAE Train Loss: 0.03260258957743645 | MAE Test Loss: 0.07614611089229584 \n",
      "Epoch: 670 | MAE Train Loss: 0.0322587676346302 | MAE Test Loss: 0.07538740336894989 \n",
      "Epoch: 680 | MAE Train Loss: 0.031915903091430664 | MAE Test Loss: 0.07456003129482269 \n",
      "Epoch: 690 | MAE Train Loss: 0.031572166830301285 | MAE Test Loss: 0.07373266667127609 \n",
      "Epoch: 700 | MAE Train Loss: 0.03122851625084877 | MAE Test Loss: 0.07297395914793015 \n",
      "Epoch: 710 | MAE Train Loss: 0.03088562563061714 | MAE Test Loss: 0.07214658707380295 \n",
      "Epoch: 720 | MAE Train Loss: 0.03054172359406948 | MAE Test Loss: 0.07131922990083694 \n",
      "Epoch: 730 | MAE Train Loss: 0.030198251828551292 | MAE Test Loss: 0.0705605149269104 \n",
      "Epoch: 740 | MAE Train Loss: 0.029855191707611084 | MAE Test Loss: 0.0697331428527832 \n",
      "Epoch: 750 | MAE Train Loss: 0.029511287808418274 | MAE Test Loss: 0.0689057856798172 \n",
      "Epoch: 760 | MAE Train Loss: 0.02916799485683441 | MAE Test Loss: 0.06814707070589066 \n",
      "Epoch: 770 | MAE Train Loss: 0.028824755921959877 | MAE Test Loss: 0.06731969118118286 \n",
      "Epoch: 780 | MAE Train Loss: 0.02848084643483162 | MAE Test Loss: 0.06649234890937805 \n",
      "Epoch: 790 | MAE Train Loss: 0.02813773788511753 | MAE Test Loss: 0.06573362648487091 \n",
      "Epoch: 800 | MAE Train Loss: 0.027794325724244118 | MAE Test Loss: 0.06490625441074371 \n",
      "Epoch: 810 | MAE Train Loss: 0.02745041623711586 | MAE Test Loss: 0.06407888978719711 \n",
      "Epoch: 820 | MAE Train Loss: 0.0271074827760458 | MAE Test Loss: 0.06332017481327057 \n",
      "Epoch: 830 | MAE Train Loss: 0.026763886213302612 | MAE Test Loss: 0.062492817640304565 \n",
      "Epoch: 840 | MAE Train Loss: 0.02642008289694786 | MAE Test Loss: 0.06173409894108772 \n",
      "Epoch: 850 | MAE Train Loss: 0.02607722207903862 | MAE Test Loss: 0.06090673804283142 \n",
      "Epoch: 860 | MAE Train Loss: 0.025733450427651405 | MAE Test Loss: 0.06007937341928482 \n",
      "Epoch: 870 | MAE Train Loss: 0.02538982965052128 | MAE Test Loss: 0.05932066589593887 \n",
      "Epoch: 880 | MAE Train Loss: 0.02504691109061241 | MAE Test Loss: 0.058493297547101974 \n",
      "Epoch: 890 | MAE Train Loss: 0.0247030109167099 | MAE Test Loss: 0.057665932923555374 \n",
      "Epoch: 900 | MAE Train Loss: 0.02435956709086895 | MAE Test Loss: 0.05690721794962883 \n",
      "Epoch: 910 | MAE Train Loss: 0.024016480892896652 | MAE Test Loss: 0.05607985332608223 \n",
      "Epoch: 920 | MAE Train Loss: 0.02367258258163929 | MAE Test Loss: 0.055252473801374435 \n",
      "Epoch: 930 | MAE Train Loss: 0.023329313844442368 | MAE Test Loss: 0.054493773728609085 \n",
      "Epoch: 940 | MAE Train Loss: 0.022986043244600296 | MAE Test Loss: 0.05366641283035278 \n",
      "Epoch: 950 | MAE Train Loss: 0.022642139345407486 | MAE Test Loss: 0.05283904820680618 \n",
      "Epoch: 960 | MAE Train Loss: 0.02229905314743519 | MAE Test Loss: 0.05208033323287964 \n",
      "Epoch: 970 | MAE Train Loss: 0.02195560745894909 | MAE Test Loss: 0.05125296115875244 \n",
      "Epoch: 980 | MAE Train Loss: 0.021611705422401428 | MAE Test Loss: 0.05042559653520584 \n",
      "Epoch: 990 | MAE Train Loss: 0.021268798038363457 | MAE Test Loss: 0.0496668815612793 \n"
     ]
    }
   ],
   "source": [
    "torch.manual_seed(42)\n",
    "\n",
    "# Set the number of epochs (how many times the model will pass over the training data)\n",
    "epochs = 1000\n",
    "\n",
    "# Create empty loss lists to track values\n",
    "train_loss_values = []\n",
    "test_loss_values = []\n",
    "epoch_count = []\n",
    "\n",
    "for epoch in range(epochs):\n",
    "    ### Training\n",
    "\n",
    "    # Put model in training mode (this is the default state of a model)\n",
    "    model_0.train()\n",
    "\n",
    "    # 1. Forward pass on train data using the forward() method inside \n",
    "    y_pred = model_0(X_train)\n",
    "    # print(y_pred)\n",
    "\n",
    "    # 2. Calculate the loss (how different are our models predictions to the ground truth)\n",
    "    loss = loss_fn(y_pred, y_train)\n",
    "\n",
    "    # 3. Zero grad of the optimizer\n",
    "    optimizer.zero_grad()\n",
    "\n",
    "    # 4. Loss backwards\n",
    "    loss.backward()\n",
    "\n",
    "    # 5. Progress the optimizer\n",
    "    optimizer.step()\n",
    "\n",
    "    ### Testing\n",
    "\n",
    "    # Put the model in evaluation mode\n",
    "    model_0.eval()\n",
    "\n",
    "    with torch.inference_mode():\n",
    "      # 1. Forward pass on test data\n",
    "      test_pred = model_0(X_test)\n",
    "\n",
    "      # 2. Caculate loss on test data\n",
    "      test_loss = loss_fn(test_pred, y_test.type(torch.float)) # predictions come in torch.float datatype, so comparisons need to be done with tensors of the same type\n",
    "\n",
    "      # Print out what's happening\n",
    "      if epoch % 10 == 0:\n",
    "            epoch_count.append(epoch)\n",
    "            train_loss_values.append(loss.detach().numpy())\n",
    "            test_loss_values.append(test_loss.detach().numpy())\n",
    "            print(f\"Epoch: {epoch} | MAE Train Loss: {loss} | MAE Test Loss: {test_loss} \")"
   ]
  },
  {
   "cell_type": "code",
   "execution_count": 18,
   "id": "0ad4d5b9",
   "metadata": {},
   "outputs": [
    {
     "data": {
      "image/png": "[encoded data removed]",
      "text/plain": [
       "<Figure size 640x480 with 1 Axes>"
      ]
     },
     "metadata": {},
     "output_type": "display_data"
    }
   ],
   "source": [
    "plt.plot(epoch_count, train_loss_values, label=\"Train loss\")\n",
    "plt.plot(epoch_count, test_loss_values, label=\"Test loss\")\n",
    "plt.title(\"Training and test loss curves\")\n",
    "plt.ylabel(\"Loss\")\n",
    "plt.xlabel(\"Epochs\")\n",
    "plt.legend();"
   ]
  },
  {
   "cell_type": "code",
   "execution_count": 20,
   "id": "028f0685",
   "metadata": {},
   "outputs": [
    {
     "name": "stdout",
     "output_type": "stream",
     "text": [
      "The model learned the following values for weights and bias:\n",
      "OrderedDict({'weights': tensor([0.5959]), 'bias': tensor([0.3437])})\n",
      "\n",
      "And the original values for weights and bias are:\n",
      "weights: 0.7, bias: 0.3\n"
     ]
    }
   ],
   "source": [
    "# Find our model's learned parameters\n",
    "print(\"The model learned the following values for weights and bias:\")\n",
    "print(model_0.state_dict())\n",
    "print(\"\\nAnd the original values for weights and bias are:\")\n",
    "print(f\"weights: {weight}, bias: {bais}\")"
   ]
  },
  {
   "cell_type": "markdown",
   "id": "d7857d02",
   "metadata": {},
   "source": [
    "## Making predictions with a trained PyTorch model (inference)\n",
    "\n",
    "Once you've trained a model, you'll likely want to make predictions with it.\n",
    "\n",
    "We've already seen a glimpse of this in the training and testing code above, the steps to do it outside of the training/testing loop are similar.\n",
    "\n",
    "- There are three things to remember when making predictions (also called performing inference) with a PyTorch model:\n",
    "\n",
    "- Set the model in evaluation mode (model.eval()).\n",
    "Make the predictions using the inference mode context manager (with torch.inference_mode(): ...).\n",
    "  \n",
    "- All predictions should be made with objects on the same device (e.g. data and model on GPU only or data and model on CPU only)."
   ]
  },
  {
   "cell_type": "code",
   "execution_count": 21,
   "id": "ce0fcb89",
   "metadata": {},
   "outputs": [
    {
     "data": {
      "text/plain": [
       "tensor([0.8204, 0.8323, 0.8443, 0.8562, 0.8681, 0.8800, 0.8919, 0.9038, 0.9158,\n",
       "        0.9277])"
      ]
     },
     "execution_count": 21,
     "metadata": {},
     "output_type": "execute_result"
    }
   ],
   "source": [
    "# 1. Set the model in evaluation mode\n",
    "model_0.eval()\n",
    "\n",
    "# 2. Setup the inference mode context manager\n",
    "with torch.inference_mode():\n",
    "  # 3. Make sure the calculations are done with the model and data on the same device\n",
    "  # in our case, we haven't setup device-agnostic code yet so our data and model are\n",
    "  # on the CPU by default.\n",
    "  # model_0.to(device)\n",
    "  # X_test = X_test.to(device)\n",
    "  y_preds = model_0(X_test)\n",
    "y_preds"
   ]
  },
  {
   "cell_type": "code",
   "execution_count": 22,
   "id": "6dc7b888",
   "metadata": {},
   "outputs": [
    {
     "data": {
      "image/png": "[encoded data removed]",
      "text/plain": [
       "<Figure size 1000x700 with 1 Axes>"
      ]
     },
     "metadata": {},
     "output_type": "display_data"
    }
   ],
   "source": [
    "plot_predictions(predictions=y_preds)"
   ]
  },
  {
   "cell_type": "markdown",
   "id": "ef633aad",
   "metadata": {},
   "source": [
    "### Saving and loading a PyTorch model\n",
    "\n",
    "If you've trained a PyTorch model, chances are you'll want to save it and export it somewhere.\n",
    "\n",
    "As in, you might train it on Google Colab or your local machine with a GPU but you'd like to now export it to some sort of application where others can use it."
   ]
  },
  {
   "cell_type": "code",
   "execution_count": null,
   "id": "df4c03e0",
   "metadata": {},
   "outputs": [
    {
     "name": "stdout",
     "output_type": "stream",
     "text": [
      "Saving model to: models\\01_pytorch_workflow_model_0.pth\n"
     ]
    }
   ],
   "source": [
    "# SAVE THE MODEL\n",
    "\n",
    "from pathlib import Path\n",
    "\n",
    "# 1. Create models directory \n",
    "MODEL_PATH = Path(\"models\")\n",
    "MODEL_PATH.mkdir(parents=True, exist_ok=True)\n",
    "\n",
    "# 2. Create model save path \n",
    "MODEL_NAME = \"01_pytorch_workflow_model_0.pth\"\n",
    "MODEL_SAVE_PATH = MODEL_PATH / MODEL_NAME\n",
    "\n",
    "# 3. Save the model state dict \n",
    "print(f\"Saving model to: {MODEL_SAVE_PATH}\")\n",
    "torch.save(obj=model_0.state_dict(), # only saving the state_dict() only saves the models learned parameters\n",
    "           f=MODEL_SAVE_PATH) "
   ]
  },
  {
   "cell_type": "code",
   "execution_count": 30,
   "id": "e846abab",
   "metadata": {},
   "outputs": [
    {
     "data": {
      "text/plain": [
       "<All keys matched successfully>"
      ]
     },
     "execution_count": 30,
     "metadata": {},
     "output_type": "execute_result"
    }
   ],
   "source": [
    "# LOAD THE SAVED MODEL\n",
    "\n",
    "# Instantiate a new instance of our model (this will be instantiated with random weights)\n",
    "loaded_model_0 = LinearRegressionModel()\n",
    "\n",
    "# Load the state_dict of our saved model (this will update the new instance of our model with trained weights)\n",
    "\n",
    "# load_state_dict ----> Copy parameters and buffers from state_dict into this module and its descendants.\n",
    "loaded_model_0.load_state_dict(torch.load(f=MODEL_SAVE_PATH))\n"
   ]
  },
  {
   "cell_type": "markdown",
   "id": "faba0c1c",
   "metadata": {},
   "source": [
    "\n",
    "Excellent! It looks like things matched up.\n",
    "\n",
    "Now to test our loaded model, let's perform inference with it (make predictions) on the test data."
   ]
  },
  {
   "cell_type": "code",
   "execution_count": 34,
   "id": "1481dd72",
   "metadata": {},
   "outputs": [
    {
     "name": "stdout",
     "output_type": "stream",
     "text": [
      "tensor([0.8204, 0.8323, 0.8443, 0.8562, 0.8681, 0.8800, 0.8919, 0.9038, 0.9158,\n",
      "        0.9277])\n"
     ]
    },
    {
     "data": {
      "text/plain": [
       "tensor([True, True, True, True, True, True, True, True, True, True])"
      ]
     },
     "execution_count": 34,
     "metadata": {},
     "output_type": "execute_result"
    }
   ],
   "source": [
    "# put the model in to evaluation mode\n",
    "loaded_model_0.eval()\n",
    "\n",
    "# use the inference mode context manager to make perdictions\n",
    "with torch.inference_mode():\n",
    "    loadede_model_predictions =  loaded_model_0(X_test)\n",
    "    print(loadede_model_predictions)\n",
    "\n",
    "\n",
    "# check\n",
    "y_preds == loadede_model_predictions\n"
   ]
  },
  {
   "cell_type": "markdown",
   "id": "a3d49233",
   "metadata": {},
   "source": [
    "### Using the GPU "
   ]
  },
  {
   "cell_type": "code",
   "execution_count": 35,
   "id": "a39e5fb5",
   "metadata": {},
   "outputs": [
    {
     "name": "stdout",
     "output_type": "stream",
     "text": [
      "Using device: cpu\n"
     ]
    }
   ],
   "source": [
    "# Setup device agnostic code\n",
    "device = \"cuda\" if torch.cuda.is_available() else \"cpu\"\n",
    "print(f\"Using device: {device}\")"
   ]
  },
  {
   "cell_type": "code",
   "execution_count": null,
   "id": "d3045b1d",
   "metadata": {},
   "outputs": [],
   "source": [
    "# Set model to GPU if it's available, otherwise it'll default to CPU\n",
    "model_1.to(device) # the device variable was set above to be \"cuda\" if available or \"cpu\" if not\n",
    "next(model_1.parameters()).device"
   ]
  },
  {
   "cell_type": "markdown",
   "id": "432965ec",
   "metadata": {},
   "source": [
    "- Note: Many data science libraries such as pandas, matplotlib and NumPy aren't capable of using data that is stored on GPU. So you might run into some issues when trying to use a function from one of these libraries with tensor data not stored on the CPU. To fix this, you can call .cpu() on your target tensor to return a copy of your target tensor on the CPU."
   ]
  },
  {
   "cell_type": "code",
   "execution_count": null,
   "id": "483ecda1",
   "metadata": {},
   "outputs": [],
   "source": [
    "# plot_predictions(predictions=y_preds) # -> won't work... data not on CPU\n",
    "\n",
    "# Put data on the CPU and plot it\n",
    "plot_predictions(predictions=y_preds.cpu())"
   ]
  }
 ],
 "metadata": {
  "kernelspec": {
   "display_name": ".venv",
   "language": "python",
   "name": "python3"
  },
  "language_info": {
   "codemirror_mode": {
    "name": "ipython",
    "version": 3
   },
   "file_extension": ".py",
   "mimetype": "text/x-python",
   "name": "python",
   "nbconvert_exporter": "python",
   "pygments_lexer": "ipython3",
   "version": "3.12.10"
  }
 },
 "nbformat": 4,
 "nbformat_minor": 5
}
